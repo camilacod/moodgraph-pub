{
 "cells": [
  {
   "cell_type": "code",
   "execution_count": 1,
   "id": "15eb5141",
   "metadata": {},
   "outputs": [
    {
     "name": "stderr",
     "output_type": "stream",
     "text": [
      "/opt/anaconda3/envs/moodgraph/lib/python3.10/site-packages/tqdm/auto.py:21: TqdmWarning: IProgress not found. Please update jupyter and ipywidgets. See https://ipywidgets.readthedocs.io/en/stable/user_install.html\n",
      "  from .autonotebook import tqdm as notebook_tqdm\n"
     ]
    }
   ],
   "source": [
    "import pandas as pd, matplotlib.pyplot as plt, seaborn as sns, os, zipfile, requests, io\n",
    "from wordcloud import WordCloud\n",
    "from pathlib import Path\n",
    "from transformers import AutoTokenizer\n",
    "sns.set_theme(style=\"whitegrid\")"
   ]
  },
  {
   "cell_type": "code",
   "execution_count": 3,
   "id": "6c5bccdf",
   "metadata": {},
   "outputs": [],
   "source": [
    "DATA_DIR = Path(\"data\")"
   ]
  },
  {
   "cell_type": "code",
   "execution_count": 12,
   "id": "dbf7ac3c",
   "metadata": {},
   "outputs": [
    {
     "name": "stdout",
     "output_type": "stream",
     "text": [
      "Leyendo TASS train/dev …\n"
     ]
    }
   ],
   "source": [
    "print(\"Leyendo TASS train/dev …\")\n",
    "cols = [\"tweet\", \"label \"]\n",
    "tass_train = pd.read_csv(DATA_DIR/\"train.tsv\", sep=\"\\t\", usecols=cols)\n",
    "tass_dev   = pd.read_csv(DATA_DIR/\"dev.tsv\",   sep=\"\\t\", usecols=cols)\n"
   ]
  },
  {
   "cell_type": "code",
   "execution_count": 20,
   "id": "112259c7",
   "metadata": {},
   "outputs": [],
   "source": [
    "tass_train.rename(columns={\"tweet\": \"tweet\", \"label \": \"label\"}, inplace=True)\n",
    "tass_dev.rename(columns={\"tweet\": \"tweet\", \"label \": \"label\"}, inplace=True)\n"
   ]
  },
  {
   "cell_type": "code",
   "execution_count": 23,
   "id": "c4efbadc",
   "metadata": {},
   "outputs": [
    {
     "name": "stdout",
     "output_type": "stream",
     "text": [
      "<class 'pandas.core.frame.DataFrame'>\n",
      "RangeIndex: 5886 entries, 0 to 5885\n",
      "Data columns (total 2 columns):\n",
      " #   Column  Non-Null Count  Dtype \n",
      "---  ------  --------------  ----- \n",
      " 0   tweet   5886 non-null   object\n",
      " 1   label   5886 non-null   object\n",
      "dtypes: object(2)\n",
      "memory usage: 92.1+ KB\n",
      "<class 'pandas.core.frame.DataFrame'>\n",
      "RangeIndex: 857 entries, 0 to 856\n",
      "Data columns (total 2 columns):\n",
      " #   Column  Non-Null Count  Dtype \n",
      "---  ------  --------------  ----- \n",
      " 0   tweet   857 non-null    object\n",
      " 1   label   857 non-null    object\n",
      "dtypes: object(2)\n",
      "memory usage: 13.5+ KB\n"
     ]
    }
   ],
   "source": [
    "tass_train.info()\n",
    "tass_dev.info()"
   ]
  },
  {
   "cell_type": "code",
   "execution_count": 21,
   "id": "837d9182",
   "metadata": {},
   "outputs": [
    {
     "data": {
      "text/plain": [
       "label\n",
       "others       2889\n",
       "joy          1270\n",
       "sadness       706\n",
       "anger         600\n",
       "surprise      241\n",
       "disgust       113\n",
       "fear           67\n",
       "Name: count, dtype: int64"
      ]
     },
     "execution_count": 21,
     "metadata": {},
     "output_type": "execute_result"
    }
   ],
   "source": [
    "tass_train.label.value_counts()"
   ]
  },
  {
   "cell_type": "code",
   "execution_count": 18,
   "id": "0f23c5a3",
   "metadata": {},
   "outputs": [
    {
     "name": "stdout",
     "output_type": "stream",
     "text": [
      "Leyendo EmoEvent …\n"
     ]
    }
   ],
   "source": [
    "print(\"Leyendo EmoEvent …\")\n",
    "# EmoEvent tiene columna 'emotion', no 'label'\n",
    "emo_df = pd.read_csv(DATA_DIR/\"emoevent_es.csv\", usecols=[\"tweet\",\"emotion\"], sep=\"\\t\")\\\n",
    "            .rename(columns={\"emotion\":\"label\"})"
   ]
  },
  {
   "cell_type": "code",
   "execution_count": 24,
   "id": "7473e715",
   "metadata": {},
   "outputs": [
    {
     "name": "stdout",
     "output_type": "stream",
     "text": [
      "<class 'pandas.core.frame.DataFrame'>\n",
      "RangeIndex: 8409 entries, 0 to 8408\n",
      "Data columns (total 2 columns):\n",
      " #   Column  Non-Null Count  Dtype \n",
      "---  ------  --------------  ----- \n",
      " 0   tweet   8409 non-null   object\n",
      " 1   label   8409 non-null   object\n",
      "dtypes: object(2)\n",
      "memory usage: 131.5+ KB\n"
     ]
    }
   ],
   "source": [
    "emo_df.info()"
   ]
  },
  {
   "cell_type": "code",
   "execution_count": 22,
   "id": "1903dcc8",
   "metadata": {},
   "outputs": [
    {
     "data": {
      "text/plain": [
       "label\n",
       "others      4127\n",
       "joy         1815\n",
       "sadness     1009\n",
       "anger        857\n",
       "surprise     344\n",
       "disgust      161\n",
       "fear          96\n",
       "Name: count, dtype: int64"
      ]
     },
     "execution_count": 22,
     "metadata": {},
     "output_type": "execute_result"
    }
   ],
   "source": [
    "emo_df.label.value_counts()"
   ]
  },
  {
   "cell_type": "code",
   "execution_count": 29,
   "id": "e2d8602e",
   "metadata": {},
   "outputs": [
    {
     "name": "stdout",
     "output_type": "stream",
     "text": [
      "Dataset final: (15152, 2)\n"
     ]
    }
   ],
   "source": [
    "\n",
    "combined = pd.concat([tass_train, tass_dev, emo_df])\n",
    "combined[\"label\"] = combined.label.str.strip()\n",
    "print(\"Dataset final:\", combined.shape)\n",
    "combined.to_csv(DATA_DIR/\"dataset.csv\", index=False)"
   ]
  },
  {
   "cell_type": "code",
   "execution_count": 30,
   "id": "d0d34865",
   "metadata": {},
   "outputs": [
    {
     "data": {
      "text/plain": [
       "array(['sadness', 'joy', 'others', 'surprise', 'disgust', 'anger', 'fear'],\n",
       "      dtype=object)"
      ]
     },
     "execution_count": 30,
     "metadata": {},
     "output_type": "execute_result"
    }
   ],
   "source": [
    "combined.label.unique()"
   ]
  },
  {
   "cell_type": "markdown",
   "id": "1d9f0e8c",
   "metadata": {},
   "source": [
    "# EDA"
   ]
  },
  {
   "cell_type": "code",
   "execution_count": 31,
   "id": "9bf04f2f",
   "metadata": {},
   "outputs": [
    {
     "data": {
      "image/png": "[encoded data removed]",
      "text/plain": [
       "<Figure size 600x400 with 1 Axes>"
      ]
     },
     "metadata": {},
     "output_type": "display_data"
    }
   ],
   "source": [
    "plt.figure(figsize=(6,4))\n",
    "sns.countplot(data=combined, y=\"label\", order=combined.label.value_counts().index)\n",
    "plt.title(\"Distribución de emociones\"); plt.tight_layout(); plt.show()"
   ]
  },
  {
   "cell_type": "code",
   "execution_count": 32,
   "id": "800fe185",
   "metadata": {},
   "outputs": [
    {
     "data": {
      "image/png": "[encoded data removed]",
      "text/plain": [
       "<Figure size 600x400 with 1 Axes>"
      ]
     },
     "metadata": {},
     "output_type": "display_data"
    }
   ],
   "source": [
    "Tok = AutoTokenizer.from_pretrained(\"finiteautomata/beto-emotion-analysis\")\n",
    "combined[\"tok_len\"] = combined.tweet.apply(lambda t: len(Tok(t)[\"input_ids\"]))\n",
    "plt.figure(figsize=(6,4))\n",
    "sns.histplot(combined.tok_len, bins=40, kde=True)\n",
    "plt.title(\"Longitud de tokens (BETO)\"); plt.tight_layout(); plt.show()"
   ]
  },
  {
   "cell_type": "code",
   "execution_count": 33,
   "id": "5adadc1b",
   "metadata": {},
   "outputs": [
    {
     "name": "stdout",
     "output_type": "stream",
     "text": [
      "Generando word‑clouds …\n",
      "Word‑clouds guardados en data/wordclouds\n"
     ]
    }
   ],
   "source": [
    "print(\"Generando word‑clouds …\")\n",
    "wc_dir = DATA_DIR/\"wordclouds\"; wc_dir.mkdir(exist_ok=True)\n",
    "for lbl in combined.label.unique():\n",
    "    WordCloud(width=400,height=200,background_color=\"white\")\\\n",
    "        .generate(\" \".join(combined[combined.label==lbl].tweet))\\\n",
    "        .to_file(wc_dir/f\"wc_{lbl}.png\")\n",
    "print(\"Word‑clouds guardados en\", wc_dir)"
   ]
  }
 ],
 "metadata": {
  "kernelspec": {
   "display_name": "moodgraph",
   "language": "python",
   "name": "python3"
  },
  "language_info": {
   "codemirror_mode": {
    "name": "ipython",
    "version": 3
   },
   "file_extension": ".py",
   "mimetype": "text/x-python",
   "name": "python",
   "nbconvert_exporter": "python",
   "pygments_lexer": "ipython3",
   "version": "3.10.17"
  }
 },
 "nbformat": 4,
 "nbformat_minor": 5
}
